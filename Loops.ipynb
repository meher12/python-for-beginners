{
 "cells": [
  {
   "cell_type": "markdown",
   "id": "24cc800f-97b0-46c5-b776-012cc66a786b",
   "metadata": {
    "jp-MarkdownHeadingCollapsed": true
   },
   "source": [
    "### **For**"
   ]
  },
  {
   "cell_type": "code",
   "execution_count": 5,
   "id": "12c15f18-561d-4d78-9744-995f7f0cfce4",
   "metadata": {},
   "outputs": [
    {
     "name": "stdout",
     "output_type": "stream",
     "text": [
      "10\n",
      "11\n",
      "12\n",
      "13\n",
      "14\n",
      "15\n",
      "16\n",
      "17\n",
      "18\n",
      "19\n"
     ]
    }
   ],
   "source": [
    "for i in range(10,20):\n",
    "    print(i)"
   ]
  },
  {
   "cell_type": "code",
   "execution_count": 7,
   "id": "baccf018-c6d5-42b4-ac48-dd8dae4778f3",
   "metadata": {},
   "outputs": [
    {
     "name": "stdout",
     "output_type": "stream",
     "text": [
      "51\n",
      "69\n",
      "31\n",
      "10\n"
     ]
    }
   ],
   "source": [
    "my_degress = [51, 69, 31, 10]\n",
    "for i in range(len(my_degress)):\n",
    "    print(my_degress[i])"
   ]
  },
  {
   "cell_type": "code",
   "execution_count": 8,
   "id": "80c529af-a6e3-4e57-a605-9d58bdf17dbc",
   "metadata": {},
   "outputs": [
    {
     "name": "stdout",
     "output_type": "stream",
     "text": [
      "51\n",
      "69\n",
      "31\n",
      "10\n"
     ]
    }
   ],
   "source": [
    "my_degress = [51, 69, 31, 10]\n",
    "for degress in my_degress:\n",
    "    print(degress)"
   ]
  },
  {
   "cell_type": "code",
   "execution_count": 9,
   "id": "a47e40ef-69b8-41ad-ba9c-414d2eccb0e0",
   "metadata": {},
   "outputs": [
    {
     "name": "stdout",
     "output_type": "stream",
     "text": [
      "69\n",
      "31\n",
      "10\n"
     ]
    }
   ],
   "source": [
    "my_degress = [51, 69, 31, 10]\n",
    "for degress in my_degress[1:]:\n",
    "    print(degress)"
   ]
  },
  {
   "cell_type": "code",
   "execution_count": 14,
   "id": "c63894c8-d5fd-44c7-9a0e-5c20670aa58b",
   "metadata": {},
   "outputs": [
    {
     "name": "stdout",
     "output_type": "stream",
     "text": [
      "('Math', 21)\n",
      "('Physics', 50)\n"
     ]
    }
   ],
   "source": [
    "crs_degress = [(\"Math\", 21), (\"Physics\", 50)]\n",
    "for deg in crs_degress:\n",
    "    print(deg)"
   ]
  },
  {
   "cell_type": "code",
   "execution_count": 17,
   "id": "29e5d94e-4248-4322-aa9b-d3a39986be7d",
   "metadata": {},
   "outputs": [
    {
     "name": "stdout",
     "output_type": "stream",
     "text": [
      "Math -> 21\n",
      "Physics -> 50\n"
     ]
    }
   ],
   "source": [
    "crs_degress = [(\"Math\", 21), (\"Physics\", 50)]\n",
    "for crs_name, deg in crs_degress:\n",
    "    # print(crs_name + \"->\" + str(deg))\n",
    "    print(crs_name, \"->\", deg)"
   ]
  },
  {
   "cell_type": "markdown",
   "id": "5ec569bf-7029-4017-83bc-631331704bd0",
   "metadata": {},
   "source": [
    "### **While**"
   ]
  },
  {
   "cell_type": "code",
   "execution_count": 19,
   "id": "903c56ed-b1b7-4183-befc-fa3dec6f24a6",
   "metadata": {},
   "outputs": [
    {
     "name": "stdout",
     "output_type": "stream",
     "text": [
      "0\n",
      "2\n",
      "4\n",
      "6\n",
      "8\n",
      "10\n",
      "12\n",
      "14\n",
      "16\n",
      "18\n",
      "END\n"
     ]
    }
   ],
   "source": [
    "x = 0\n",
    "while x < 10:\n",
    "    print (x * 2)\n",
    "    x += 1\n",
    "print(\"END\")"
   ]
  },
  {
   "cell_type": "code",
   "execution_count": 8,
   "id": "2e816699-e416-44a2-84af-b54bbcee7ac3",
   "metadata": {},
   "outputs": [],
   "source": [
    "mass = [0] * 9000000"
   ]
  },
  {
   "cell_type": "code",
   "execution_count": 9,
   "id": "2aed62ec-51e9-4eb7-bdf7-ae892e26f5b6",
   "metadata": {},
   "outputs": [
    {
     "name": "stdout",
     "output_type": "stream",
     "text": [
      "58824\n"
     ]
    }
   ],
   "source": [
    "import datetime as dt\n",
    "start = dt.datetime.now()\n",
    "\n",
    "for i in range (len(mass)):\n",
    "    mass[i] = str (mass[i])\n",
    "    \n",
    "end = dt.datetime.now()\n",
    "print((end-start).microseconds)"
   ]
  },
  {
   "cell_type": "code",
   "execution_count": 11,
   "id": "025cc5fa-2d5c-452d-8e34-9b509355f900",
   "metadata": {},
   "outputs": [
    {
     "name": "stdout",
     "output_type": "stream",
     "text": [
      "297367\n"
     ]
    }
   ],
   "source": [
    "import datetime as dt\n",
    "start = dt.datetime.now()\n",
    "# this loop is very faster than the other for loop\n",
    "m_1 = [str(m) for m in mass]\n",
    "\n",
    "end = dt.datetime.now()\n",
    "print((end-start).microseconds)"
   ]
  }
 ],
 "metadata": {
  "kernelspec": {
   "display_name": "Python 3 (ipykernel)",
   "language": "python",
   "name": "python3"
  },
  "language_info": {
   "codemirror_mode": {
    "name": "ipython",
    "version": 3
   },
   "file_extension": ".py",
   "mimetype": "text/x-python",
   "name": "python",
   "nbconvert_exporter": "python",
   "pygments_lexer": "ipython3",
   "version": "3.12.3"
  },
  "widgets": {
   "application/vnd.jupyter.widget-state+json": {
    "state": {},
    "version_major": 2,
    "version_minor": 0
   }
  }
 },
 "nbformat": 4,
 "nbformat_minor": 5
}
