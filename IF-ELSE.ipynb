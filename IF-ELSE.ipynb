{
 "cells": [
  {
   "cell_type": "code",
   "execution_count": 1,
   "id": "6f735d1f-7067-47a7-b2a4-cb6e5f1fe574",
   "metadata": {},
   "outputs": [],
   "source": [
    "var_1 = 100"
   ]
  },
  {
   "cell_type": "code",
   "execution_count": 2,
   "id": "c5ef0be3-46c7-441c-a9e1-3eab294dfdff",
   "metadata": {},
   "outputs": [
    {
     "name": "stdout",
     "output_type": "stream",
     "text": [
      "Success\n",
      "STOP\n"
     ]
    }
   ],
   "source": [
    "if var_1 == 100:\n",
    "    print(\"Success\")\n",
    "    print(\"STOP\")"
   ]
  },
  {
   "cell_type": "code",
   "execution_count": 3,
   "id": "2eb99072-e7de-49ef-a9c9-d7bb07fb24c2",
   "metadata": {},
   "outputs": [
    {
     "name": "stdout",
     "output_type": "stream",
     "text": [
      "Dis-Allowed\n"
     ]
    }
   ],
   "source": [
    "age = 16\n",
    "weight = 80\n",
    "if age >= 21 and weight < 120:\n",
    "    print(\"Allowed\")\n",
    "else:\n",
    "    print(\"Dis-Allowed\")"
   ]
  },
  {
   "cell_type": "code",
   "execution_count": 7,
   "id": "4c1b7482-8ac5-43be-ad79-d57afe0f2265",
   "metadata": {},
   "outputs": [
    {
     "name": "stdout",
     "output_type": "stream",
     "text": [
      "good bye !!\n"
     ]
    }
   ],
   "source": [
    "age = 16\n",
    "weight = 80\n",
    "height = 138\n",
    "if age >= 16:\n",
    "    if weight < 120 or height > 180:\n",
    "        print(\"get a ticket\")\n",
    "    else:\n",
    "        print(\"good bye\")\n",
    "else:\n",
    "    print(\"good bye !!\")"
   ]
  },
  {
   "cell_type": "code",
   "execution_count": 9,
   "id": "723d46e6-05aa-45fa-b4b8-e1e3d433cd67",
   "metadata": {},
   "outputs": [
    {
     "name": "stdout",
     "output_type": "stream",
     "text": [
      "good bye\n"
     ]
    }
   ],
   "source": [
    "age = 15\n",
    "weight = 80\n",
    "height = 138\n",
    "if age >= 16 and (weight < 120 or height > 180):\n",
    "        print(\"get a ticket\")\n",
    "else:\n",
    "    print(\"good bye\")\n"
   ]
  },
  {
   "cell_type": "code",
   "execution_count": 10,
   "id": "55ce81cd-3c70-457a-846f-6f2bc6051838",
   "metadata": {},
   "outputs": [
    {
     "name": "stdout",
     "output_type": "stream",
     "text": [
      "C\n"
     ]
    }
   ],
   "source": [
    "GPA = 3.1\n",
    "if GPA >= 3.7:\n",
    "    print(\"A\")\n",
    "elif GPA >= 3.5:\n",
    "    print(\"B\")\n",
    "elif GPA >= 3.0:\n",
    "    print(\"C\")\n",
    "else:\n",
    "    print(\"D\")"
   ]
  },
  {
   "cell_type": "code",
   "execution_count": 12,
   "id": "73d3ed27-82d3-40e2-99e8-604941ce9a06",
   "metadata": {},
   "outputs": [
    {
     "name": "stdout",
     "output_type": "stream",
     "text": [
      "Good bye!\n",
      "Hi\n"
     ]
    }
   ],
   "source": [
    "cond = False\n",
    "if cond:\n",
    "    print('Hi')\n",
    "else: \n",
    "    print('Good bye!')\n",
    "\n",
    "if not cond:\n",
    "    print('Hi')\n",
    "else: \n",
    "    print('Good bye!')"
   ]
  },
  {
   "cell_type": "code",
   "execution_count": 13,
   "id": "f6f10a00-62d3-42cb-a49c-489ab3fd8622",
   "metadata": {},
   "outputs": [
    {
     "name": "stdout",
     "output_type": "stream",
     "text": [
      "Found\n"
     ]
    }
   ],
   "source": [
    "students = [\"Ali\", \"Lamma\", \"Cocou\"]\n",
    "if \"Lamma\" in students:\n",
    "    print(\"Found\")\n",
    "else:\n",
    "    print(\"Missed\")"
   ]
  },
  {
   "cell_type": "code",
   "execution_count": 16,
   "id": "61300075-7c04-47ab-a4ce-ef2ef97c5376",
   "metadata": {},
   "outputs": [
    {
     "name": "stdout",
     "output_type": "stream",
     "text": [
      "Found\n"
     ]
    }
   ],
   "source": [
    "students = set([\"Ali\", \"Lamma\", \"Cocou\"])\n",
    "if \"Lamma\" in students:\n",
    "    print(\"Found\")\n",
    "else:\n",
    "    print(\"Missed\")"
   ]
  }
 ],
 "metadata": {
  "kernelspec": {
   "display_name": "Python 3 (ipykernel)",
   "language": "python",
   "name": "python3"
  },
  "language_info": {
   "codemirror_mode": {
    "name": "ipython",
    "version": 3
   },
   "file_extension": ".py",
   "mimetype": "text/x-python",
   "name": "python",
   "nbconvert_exporter": "python",
   "pygments_lexer": "ipython3",
   "version": "3.12.3"
  },
  "widgets": {
   "application/vnd.jupyter.widget-state+json": {
    "state": {},
    "version_major": 2,
    "version_minor": 0
   }
  }
 },
 "nbformat": 4,
 "nbformat_minor": 5
}
