{
 "cells": [
  {
   "cell_type": "code",
   "execution_count": 12,
   "id": "8d560b0c-1f5b-4acb-8dd3-67d6dff6995f",
   "metadata": {},
   "outputs": [],
   "source": [
    "def print_info(name, age):\n",
    "    output = \"Hi. My name is \"+ name+\". I am \"+str(age)+ \" years old.\"\n",
    "    return output"
   ]
  },
  {
   "cell_type": "code",
   "execution_count": 13,
   "id": "f410c022-b94d-492d-8f11-580376dd170b",
   "metadata": {},
   "outputs": [
    {
     "name": "stdout",
     "output_type": "stream",
     "text": [
      "Hi. My name is Ali. I am 15 years old.\n"
     ]
    }
   ],
   "source": [
    "age = 15\n",
    "name = \"Ali\"\n",
    "\n",
    "print(print_info(name, age))"
   ]
  },
  {
   "cell_type": "code",
   "execution_count": 14,
   "id": "83d252d8-8ec5-490a-8024-cd578ab147cc",
   "metadata": {},
   "outputs": [],
   "source": [
    "def crs_work(crs_name, crs_degree):\n",
    "    if crs_degree >= 60:\n",
    "        return \"PASS\"\n",
    "    else:\n",
    "        return \"FAIL\""
   ]
  },
  {
   "cell_type": "code",
   "execution_count": 18,
   "id": "85b9dc49-37ec-4196-8965-188d4161454b",
   "metadata": {},
   "outputs": [
    {
     "name": "stdout",
     "output_type": "stream",
     "text": [
      "PASS\n"
     ]
    }
   ],
   "source": [
    "# print(crs_work(\"Math\", 68))\n",
    "print(crs_work(crs_degree=68, crs_name=\"Math\"))"
   ]
  },
  {
   "cell_type": "code",
   "execution_count": 19,
   "id": "13f3a538-94af-42a1-b11a-d5d63edb26d8",
   "metadata": {},
   "outputs": [],
   "source": [
    "def crs_work2(crs_name, crs_degree):\n",
    "    msg = \"\"\n",
    "    if crs_degree >= 60:\n",
    "        msg = crs_name + \": PASS\"\n",
    "    else:\n",
    "         msg = crs_name + \": FAIL\"\n",
    "    GPA = \"F\"\n",
    "    if crs_degree >= 90:\n",
    "        GPA = \"A\"\n",
    "    elif crs_degree >= 80:\n",
    "         GPA = \"B\"\n",
    "    elif crs_degree >= 70:\n",
    "         GPA = \"C\"\n",
    "    elif crs_degree >= 60:\n",
    "         GPA = \"D\"\n",
    "    return msg, GPA\n"
   ]
  },
  {
   "cell_type": "code",
   "execution_count": 21,
   "id": "a5ab43c8-ff45-463b-b21f-a14bfe2e0b4b",
   "metadata": {},
   "outputs": [
    {
     "name": "stdout",
     "output_type": "stream",
     "text": [
      "Physics: PASS C\n"
     ]
    }
   ],
   "source": [
    "# print(crs_work2(\"Physics\", 71))\n",
    "crs_msg, crs_gpa = crs_work2(\"Physics\", 71)\n",
    "print(crs_msg, crs_gpa)"
   ]
  },
  {
   "cell_type": "code",
   "execution_count": 22,
   "id": "9b1422ea-e1e0-4a11-9fe9-65735c652cf3",
   "metadata": {},
   "outputs": [],
   "source": [
    "def sum_values(val_1, *vals):\n",
    "    sum_vals = val_1\n",
    "    for v in vals:\n",
    "        sum_vals += v\n",
    "    return sum_vals"
   ]
  },
  {
   "cell_type": "code",
   "execution_count": 24,
   "id": "73e06e69-474c-4a07-b2cf-23708bdd3b30",
   "metadata": {},
   "outputs": [
    {
     "name": "stdout",
     "output_type": "stream",
     "text": [
      "641\n"
     ]
    }
   ],
   "source": [
    "print ( sum_values(5, 10, 15, 98, 145, 368))"
   ]
  },
  {
   "cell_type": "markdown",
   "id": "841ef1aa-bbbc-49a6-a9f2-3b5a4247f1e3",
   "metadata": {},
   "source": [
    "### **Lambda function**"
   ]
  },
  {
   "cell_type": "code",
   "execution_count": 25,
   "id": "b45126ff-e095-428f-bef6-cdbbd8cd5e5f",
   "metadata": {},
   "outputs": [],
   "source": [
    "_s = lambda v_1, v_2 : v_1 + v_2"
   ]
  },
  {
   "cell_type": "code",
   "execution_count": 26,
   "id": "090d2930-c6f8-4220-81a4-db4a568ac694",
   "metadata": {},
   "outputs": [
    {
     "name": "stdout",
     "output_type": "stream",
     "text": [
      "15\n"
     ]
    }
   ],
   "source": [
    "print(_s(5,10))"
   ]
  }
 ],
 "metadata": {
  "kernelspec": {
   "display_name": "Python 3 (ipykernel)",
   "language": "python",
   "name": "python3"
  },
  "language_info": {
   "codemirror_mode": {
    "name": "ipython",
    "version": 3
   },
   "file_extension": ".py",
   "mimetype": "text/x-python",
   "name": "python",
   "nbconvert_exporter": "python",
   "pygments_lexer": "ipython3",
   "version": "3.12.3"
  },
  "widgets": {
   "application/vnd.jupyter.widget-state+json": {
    "state": {},
    "version_major": 2,
    "version_minor": 0
   }
  }
 },
 "nbformat": 4,
 "nbformat_minor": 5
}
