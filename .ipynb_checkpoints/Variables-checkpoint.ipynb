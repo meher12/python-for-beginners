{
 "cells": [
  {
   "cell_type": "markdown",
   "id": "fe3a501d-255d-4877-9b98-6f61599086ba",
   "metadata": {
    "jp-MarkdownHeadingCollapsed": true
   },
   "source": [
    "### **Number and String**"
   ]
  },
  {
   "cell_type": "code",
   "execution_count": 5,
   "id": "28811cc8-422e-4333-98f8-55ced65d740c",
   "metadata": {},
   "outputs": [],
   "source": [
    "my_name= \"Ahmed\""
   ]
  },
  {
   "cell_type": "code",
   "execution_count": 7,
   "id": "5c33a213-a1e0-4fd3-80ee-1dea751c2c6d",
   "metadata": {},
   "outputs": [
    {
     "data": {
      "text/plain": [
       "5"
      ]
     },
     "execution_count": 7,
     "metadata": {},
     "output_type": "execute_result"
    }
   ],
   "source": [
    "len(my_name)"
   ]
  },
  {
   "cell_type": "code",
   "execution_count": 9,
   "id": "2d057f81-033c-4dd1-a067-99f44e4b2858",
   "metadata": {},
   "outputs": [
    {
     "data": {
      "text/plain": [
       "'med'"
      ]
     },
     "execution_count": 9,
     "metadata": {},
     "output_type": "execute_result"
    }
   ],
   "source": [
    "my_name[2:]"
   ]
  },
  {
   "cell_type": "code",
   "execution_count": 2,
   "id": "8a9d1fcd-cdd5-4f78-a5ac-7c14075b2e34",
   "metadata": {},
   "outputs": [],
   "source": [
    "firstName= \"Ahmed\"\n",
    "SecondName= \"Ali\"\n",
    "# print(firstName + \"\" + SecondName)"
   ]
  },
  {
   "cell_type": "code",
   "execution_count": 5,
   "id": "22578640-d0d5-4a4b-be2d-75f389603e9d",
   "metadata": {},
   "outputs": [
    {
     "name": "stdout",
     "output_type": "stream",
     "text": [
      "Ahmed was 15\n"
     ]
    }
   ],
   "source": [
    "num = 15\n",
    "print(firstName + \" was \" + str(num))"
   ]
  },
  {
   "cell_type": "markdown",
   "id": "8d1f0a66-ad33-4d4b-83e1-bd750d0e0cc3",
   "metadata": {},
   "source": [
    "### **List**"
   ]
  },
  {
   "cell_type": "code",
   "execution_count": 6,
   "id": "864c7751-2e3d-44a8-b296-f2beb2ae67eb",
   "metadata": {},
   "outputs": [],
   "source": [
    "my_list = [25,31,98,67]"
   ]
  },
  {
   "cell_type": "code",
   "execution_count": 7,
   "id": "d8dc49d2-9d8e-447a-9bbe-09ee2f2fe03f",
   "metadata": {},
   "outputs": [
    {
     "data": {
      "text/plain": [
       "4"
      ]
     },
     "execution_count": 7,
     "metadata": {},
     "output_type": "execute_result"
    }
   ],
   "source": [
    "len(my_list)"
   ]
  },
  {
   "cell_type": "code",
   "execution_count": 8,
   "id": "32ca776a-483d-49e4-913e-cde1db93774c",
   "metadata": {},
   "outputs": [
    {
     "data": {
      "text/plain": [
       "25"
      ]
     },
     "execution_count": 8,
     "metadata": {},
     "output_type": "execute_result"
    }
   ],
   "source": [
    "my_list[0]"
   ]
  },
  {
   "cell_type": "code",
   "execution_count": 9,
   "id": "c496dead-e3a9-43d5-b0ef-4525daa6f390",
   "metadata": {},
   "outputs": [
    {
     "data": {
      "text/plain": [
       "[25, 31, 98]"
      ]
     },
     "execution_count": 9,
     "metadata": {},
     "output_type": "execute_result"
    }
   ],
   "source": [
    "my_list[0:3]"
   ]
  },
  {
   "cell_type": "code",
   "execution_count": 10,
   "id": "43e4a741-a51f-4d36-bdb3-d03b2f85559a",
   "metadata": {},
   "outputs": [
    {
     "data": {
      "text/plain": [
       "[25, 31]"
      ]
     },
     "execution_count": 10,
     "metadata": {},
     "output_type": "execute_result"
    }
   ],
   "source": [
    "my_list[:2]"
   ]
  },
  {
   "cell_type": "code",
   "execution_count": 11,
   "id": "b5d4520d-11a0-4530-ac83-cfa958e5ac69",
   "metadata": {},
   "outputs": [],
   "source": [
    "my_list2 = [5, 12.5, \"Scoot\", [214, 28, 2]]"
   ]
  },
  {
   "cell_type": "code",
   "execution_count": 15,
   "id": "59fd1880-d9d2-4d9b-bfca-aa663f22baf6",
   "metadata": {},
   "outputs": [
    {
     "data": {
      "text/plain": [
       "214"
      ]
     },
     "execution_count": 15,
     "metadata": {},
     "output_type": "execute_result"
    }
   ],
   "source": [
    "my_list2[3][0]"
   ]
  },
  {
   "cell_type": "code",
   "execution_count": 16,
   "id": "00469aac-8ce1-4bcd-b3b6-17ca82b9803c",
   "metadata": {},
   "outputs": [],
   "source": [
    "class_1 = [\"Ali\", \"Omar\", \"Osama\"]\n",
    "class_2 = [\"karim\", \"Manal\"]"
   ]
  },
  {
   "cell_type": "code",
   "execution_count": 19,
   "id": "f555f2ae-83ab-468e-92ff-d8db21877c40",
   "metadata": {},
   "outputs": [
    {
     "data": {
      "text/plain": [
       "['Ali', 'Omar', 'Osama', 'karim', 'Manal']"
      ]
     },
     "execution_count": 19,
     "metadata": {},
     "output_type": "execute_result"
    }
   ],
   "source": [
    "all_classes = class_1 + class_2\n",
    "all_classes"
   ]
  },
  {
   "cell_type": "code",
   "execution_count": 20,
   "id": "b24fce37-2344-4e58-8047-7e6d29dfdac1",
   "metadata": {},
   "outputs": [
    {
     "data": {
      "text/plain": [
       "['Sayana', 'Omar', 'Osama']"
      ]
     },
     "execution_count": 20,
     "metadata": {},
     "output_type": "execute_result"
    }
   ],
   "source": [
    "class_1[0] = \"Sayana\"\n",
    "class_1[2] = \"Aanna\"\n",
    "class_1"
   ]
  },
  {
   "cell_type": "markdown",
   "id": "62484079-2997-4c9b-87d1-344458161c31",
   "metadata": {
    "jp-MarkdownHeadingCollapsed": true
   },
   "source": [
    "### **Tuple**"
   ]
  },
  {
   "cell_type": "code",
   "execution_count": 1,
   "id": "38c02ef5-c4a0-46bc-813c-44a968d5c87e",
   "metadata": {},
   "outputs": [],
   "source": [
    "my_tuple = (15.2, 58.3, \"Soltan\")"
   ]
  },
  {
   "cell_type": "code",
   "execution_count": 2,
   "id": "060129c7-bd07-41b7-9ebe-9ea7a4ff2a9b",
   "metadata": {},
   "outputs": [
    {
     "data": {
      "text/plain": [
       "(15.2,)"
      ]
     },
     "execution_count": 2,
     "metadata": {},
     "output_type": "execute_result"
    }
   ],
   "source": [
    "my_tuple[:1]"
   ]
  },
  {
   "cell_type": "code",
   "execution_count": 3,
   "id": "72c12030-d4bd-4309-a4d1-13c7ea329acd",
   "metadata": {},
   "outputs": [
    {
     "ename": "TypeError",
     "evalue": "'tuple' object does not support item assignment",
     "output_type": "error",
     "traceback": [
      "\u001b[0;31m---------------------------------------------------------------------------\u001b[0m",
      "\u001b[0;31mTypeError\u001b[0m                                 Traceback (most recent call last)",
      "Cell \u001b[0;32mIn[3], line 1\u001b[0m\n\u001b[0;32m----> 1\u001b[0m \u001b[43mmy_tuple\u001b[49m\u001b[43m[\u001b[49m\u001b[38;5;241;43m0\u001b[39;49m\u001b[43m]\u001b[49m \u001b[38;5;241m=\u001b[39m \u001b[38;5;241m20\u001b[39m\n",
      "\u001b[0;31mTypeError\u001b[0m: 'tuple' object does not support item assignment"
     ]
    }
   ],
   "source": [
    "my_tuple[0] = 20"
   ]
  },
  {
   "cell_type": "markdown",
   "id": "6f43d4f8-e50c-4719-9b49-a448ed1c97e1",
   "metadata": {},
   "source": [
    "### **Dictionary**"
   ]
  },
  {
   "cell_type": "code",
   "execution_count": 4,
   "id": "e42c8e30-b1cb-44b0-b47b-a701e405577c",
   "metadata": {},
   "outputs": [],
   "source": [
    "person = {\n",
    "    \"first_name\": \"Tomas\",\n",
    "    \"last_name\": \"Kitoun\",\n",
    "    \"age\": 25\n",
    "}"
   ]
  },
  {
   "cell_type": "code",
   "execution_count": 5,
   "id": "1d71f957-9417-4e44-ab01-6932f63f42c2",
   "metadata": {},
   "outputs": [
    {
     "data": {
      "text/plain": [
       "'Tomas'"
      ]
     },
     "execution_count": 5,
     "metadata": {},
     "output_type": "execute_result"
    }
   ],
   "source": [
    "person['first_name']"
   ]
  },
  {
   "cell_type": "code",
   "execution_count": 8,
   "id": "a7b1c4a1-6d2c-4d04-b0b4-66de1db55a2e",
   "metadata": {},
   "outputs": [
    {
     "data": {
      "text/plain": [
       "dict_values(['Tomas', 'Kitoun', 25])"
      ]
     },
     "execution_count": 8,
     "metadata": {},
     "output_type": "execute_result"
    }
   ],
   "source": [
    "# person.keys()\n",
    "person.values()"
   ]
  },
  {
   "cell_type": "markdown",
   "id": "6d082b94-a0c7-4fe6-8f44-3d6a8e3c0f9a",
   "metadata": {},
   "source": [
    "### **Set**"
   ]
  },
  {
   "cell_type": "code",
   "execution_count": 16,
   "id": "18ca6b2d-9f89-4975-a154-c476b95dbfa9",
   "metadata": {},
   "outputs": [],
   "source": [
    "students = [\"Ali\", \"Manal\", \"Lanna\", \"Omar\", \"karim\", \"Omar\"]"
   ]
  },
  {
   "cell_type": "code",
   "execution_count": 17,
   "id": "0235569c-7e97-4c05-b1eb-11fe070437aa",
   "metadata": {},
   "outputs": [
    {
     "data": {
      "text/plain": [
       "['Ali', 'Manal', 'Lanna', 'Omar', 'karim', 'Omar']"
      ]
     },
     "execution_count": 17,
     "metadata": {},
     "output_type": "execute_result"
    }
   ],
   "source": [
    "students"
   ]
  },
  {
   "cell_type": "code",
   "execution_count": 22,
   "id": "ccae8b6c-0cac-4079-8c0d-0489d0e1ad53",
   "metadata": {},
   "outputs": [],
   "source": [
    "# Set to delete the duplicate and store the data/ is not possible to change data in the Set type\n",
    "students_set = set(students)"
   ]
  },
  {
   "cell_type": "code",
   "execution_count": 21,
   "id": "6472310b-8abe-4516-953a-f56804590aa2",
   "metadata": {},
   "outputs": [
    {
     "data": {
      "text/plain": [
       "{'Ali', 'Lanna', 'Manal', 'Omar', 'karim'}"
      ]
     },
     "execution_count": 21,
     "metadata": {},
     "output_type": "execute_result"
    }
   ],
   "source": [
    "students_set"
   ]
  }
 ],
 "metadata": {
  "kernelspec": {
   "display_name": "Python 3 (ipykernel)",
   "language": "python",
   "name": "python3"
  },
  "language_info": {
   "codemirror_mode": {
    "name": "ipython",
    "version": 3
   },
   "file_extension": ".py",
   "mimetype": "text/x-python",
   "name": "python",
   "nbconvert_exporter": "python",
   "pygments_lexer": "ipython3",
   "version": "3.12.3"
  }
 },
 "nbformat": 4,
 "nbformat_minor": 5
}
